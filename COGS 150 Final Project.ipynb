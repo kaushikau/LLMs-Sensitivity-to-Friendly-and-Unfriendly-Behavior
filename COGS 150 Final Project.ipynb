{
 "cells": [
  {
   "cell_type": "markdown",
   "id": "de03605a-5780-4eee-9556-0491876ae4e7",
   "metadata": {},
   "source": [
    "Kaushika Uppu\n",
    "\n",
    "Winter 2024\n",
    "\n",
    "University of California, San Diego"
   ]
  },
  {
   "cell_type": "markdown",
   "id": "0648df67-e0a7-4bb0-a5ac-9e5699b3b162",
   "metadata": {},
   "source": [
    "## Introduction {-}"
   ]
  },
  {
   "cell_type": "markdown",
   "id": "0c4b1843-bebe-4250-8320-d1bb86ebb773",
   "metadata": {},
   "source": [
    "Large language models have become significantly prevalent in recent years, resulting in an explosion of users and usage. With its exponential rise in popularity, LLMs are now being used for everything from coding to homework to essay writing, and many other things in between. Although previous work in this class has shown the extent to which large language models, specifically GPT-2, are sensitive to certain grammatical errors, I was curious about how large language models react to friendliness versus unfriendliness.\n",
    "\n",
    "The idea of friendly behavior, or behavior that aids someone in some kind of positive way, is known as prosocial behavior. Both empathy and prosocial behavior are known to develop in young children during early childhood [<sup>[1]</sup>](#fn1), and they are a critical aspect of social interaction and understanding. On the other hand, large language models have grown and expanded substantially in the past few years, and have even been used to model human behavior in certain situations. One study [<sup>[2]</sup>](#fn2) found that LLMs can even simulate one aspect of human social understanding: trust. Therefore, it is possible that large language models are able to replicate facets of social behaviors that are a prominent feature of human development.\n",
    "\n",
    "With social behavior being such a central component of human society and the idea that large language models are becoming more and more advanced to the point of accurately simulating human behavior, I was interested in seeing whether LLMs would be sensitive to one aspect of this kind of behavior. In this project, I aim to test how much large language models are responsive to the difference between situations in which one acts amicably or not."
   ]
  },
  {
   "cell_type": "markdown",
   "id": "b272860c-749b-44b6-9729-bf60a36d81c5",
   "metadata": {},
   "source": [
    "## Research Question {-}"
   ]
  },
  {
   "cell_type": "markdown",
   "id": "c2debfe1-36b1-4c77-9ba4-7775bb9b7855",
   "metadata": {},
   "source": [
    "Are large language models (LLMs) sensitive to the difference between friendly and unfriendly behavior?"
   ]
  },
  {
   "cell_type": "markdown",
   "id": "38be089b-e5f9-4354-9f0f-030ed9c20aa0",
   "metadata": {},
   "source": [
    "## Methods {-}"
   ]
  },
  {
   "cell_type": "markdown",
   "id": "a399cb3d-f64d-44d7-a76c-a1175671a0c4",
   "metadata": {},
   "source": [
    "### Imports {-}"
   ]
  },
  {
   "cell_type": "markdown",
   "id": "caab18e4-0c3b-4b47-8aee-b41b08f995d5",
   "metadata": {},
   "source": [
    "To set up for this project, I first installed and imported the necessary libraries, and loading the GPT-2 tokenizer as well as the pre-trained GPT-2 model that will be used later."
   ]
  },
  {
   "cell_type": "code",
   "execution_count": 2,
   "id": "b0e3b149-08c0-4feb-885a-3c6150fbc5b7",
   "metadata": {},
   "outputs": [],
   "source": [
    "#%pip install transformers\n",
    "#%pip install pytorch"
   ]
  },
  {
   "cell_type": "code",
   "execution_count": 3,
   "id": "3227d202-0068-4f4b-88e7-894c656db493",
   "metadata": {},
   "outputs": [],
   "source": [
    "import pandas as pd\n",
    "import matplotlib.pyplot as plt\n",
    "import seaborn as sns\n",
    "import numpy as np\n",
    "from tqdm import tqdm\n",
    "import torch\n",
    "import transformers"
   ]
  },
  {
   "cell_type": "code",
   "execution_count": 4,
   "id": "38f47686-802a-466d-97fc-860e9ab76edc",
   "metadata": {},
   "outputs": [],
   "source": [
    "from transformers import AutoTokenizer\n",
    "\n",
    "tokenizer = AutoTokenizer.from_pretrained(\"gpt2\")"
   ]
  },
  {
   "cell_type": "code",
   "execution_count": 5,
   "id": "3323feef-7cc0-443d-b91c-561713e55326",
   "metadata": {},
   "outputs": [
    {
     "data": {
      "text/plain": [
       "GPT2LMHeadModel(\n",
       "  (transformer): GPT2Model(\n",
       "    (wte): Embedding(50257, 768)\n",
       "    (wpe): Embedding(1024, 768)\n",
       "    (drop): Dropout(p=0.1, inplace=False)\n",
       "    (h): ModuleList(\n",
       "      (0-11): 12 x GPT2Block(\n",
       "        (ln_1): LayerNorm((768,), eps=1e-05, elementwise_affine=True)\n",
       "        (attn): GPT2Attention(\n",
       "          (c_attn): Conv1D()\n",
       "          (c_proj): Conv1D()\n",
       "          (attn_dropout): Dropout(p=0.1, inplace=False)\n",
       "          (resid_dropout): Dropout(p=0.1, inplace=False)\n",
       "        )\n",
       "        (ln_2): LayerNorm((768,), eps=1e-05, elementwise_affine=True)\n",
       "        (mlp): GPT2MLP(\n",
       "          (c_fc): Conv1D()\n",
       "          (c_proj): Conv1D()\n",
       "          (act): NewGELUActivation()\n",
       "          (dropout): Dropout(p=0.1, inplace=False)\n",
       "        )\n",
       "      )\n",
       "    )\n",
       "    (ln_f): LayerNorm((768,), eps=1e-05, elementwise_affine=True)\n",
       "  )\n",
       "  (lm_head): Linear(in_features=768, out_features=50257, bias=False)\n",
       ")"
      ]
     },
     "execution_count": 5,
     "metadata": {},
     "output_type": "execute_result"
    }
   ],
   "source": [
    "gpt2 = transformers.AutoModelForCausalLM.from_pretrained(\"gpt2\")\n",
    "gpt2.eval()"
   ]
  },
  {
   "cell_type": "markdown",
   "id": "72230f73-20fe-4beb-935a-bbb01d7ff82b",
   "metadata": {},
   "source": [
    "### Stimuli {-}"
   ]
  },
  {
   "cell_type": "markdown",
   "id": "32fb2699-2a7b-4c57-9eb4-e67801eed055",
   "metadata": {},
   "source": [
    "In order to test the sensitivity of large language models to friendly versus unfriendly behavior, I created stimuli with ten minimal pairs, for a total of twenty sentences. Minimal pairs that were developed were completely identitical except for the last word of the sentence that either reflected amicable behavior or antagonistic behavior, which allowed for the control of everything but the final word."
   ]
  },
  {
   "cell_type": "markdown",
   "id": "5c96f340-7613-4e19-8474-b424ed5337e4",
   "metadata": {},
   "source": [
    "Each stimulus in the list is a tuple that has four parts: a sentence fragment, the final word, a label identifying whether the final word is `Friendly` (modeling amicable behavior in the situation) or `Unfriendly` (modeling antagonistic behavior in the situation), and the sex of the subject in the sentence.\n",
    "\n",
    "The sex of the subject in the sentence was included in the stimuli because I was also curious whether sex would play a role in the large language model's sensitivity to friendly and unfriendly behavior due to any unseen biases. While developing these stimuli, I created exactly five pairs of sentences with male pronouns and five with female, labeled `m` and `f`, respectively."
   ]
  },
  {
   "cell_type": "code",
   "execution_count": 6,
   "id": "255515ec-560a-4662-bfd8-a098154270e7",
   "metadata": {},
   "outputs": [],
   "source": [
    "test_stimuli = [\n",
    "    (\"He saw his friend trip over a rock and\", \" helped\", \"Friendly\", \"m\"),\n",
    "    (\"He saw his friend trip over a rock and\", \" laughed\", \"Unfriendly\", \"m\"),\n",
    "    (\"When the girl went to the teacher to ask a question, the teacher\", \" answered\", \"Friendly\", \"f\"),\n",
    "    (\"When the girl went to the teacher to ask a question, the teacher\", \" yelled\", \"Unfriendly\", \"f\"),\n",
    "    (\"She saw a lonely dog on the side of the road while driving, so she\", \" stopped\", \"Friendly\", \"f\"),\n",
    "    (\"She saw a lonely dog on the side of the road while driving, so she\", \" snickered\", \"Unfriendly\", \"f\"),\n",
    "    (\"He realized his colleague was struggling on the project, and offered to\", \" help\", \"Friendly\", \"m\"),\n",
    "    (\"He realized his colleague was struggling on the project, and offered to\", \" gloat\", \"Unfriendly\", \"m\"),\n",
    "    (\"During the soccer game, she noticed her teammate was injured and\", \" rushed\", \"Friendly\", \"f\"),\n",
    "    (\"During the soccer game, she noticed her teammate was injured and\", \" complained\", \"Unfriendly\", \"f\"),\n",
    "    (\"When his friend was feeling sad, he took the time to\", \" listen\", \"Friendly\", \"m\"),\n",
    "    (\"When his friend was feeling sad, he took the time to\", \" insult\", \"Unfriendly\", \"m\"),\n",
    "    (\"Upon hearing about his friend's win yesterday, he was quick to\", \" congratulate\", \"Friendly\", \"m\"),\n",
    "    (\"Upon hearing about his friend's win yesterday, he was quick to\", \" envy\", \"Unfriendly\", \"m\"),\n",
    "    (\"When her group member made a small mistake on the paper, she chose to\", \" forgive\", \"Friendly\", \"f\"),\n",
    "    (\"When her group member made a small mistake on the paper, she chose to\", \" reprimand\", \"Unfriendly\", \"f\"),\n",
    "    (\"Her classmate was sad about his grade, and she decided to\", \" console\", \"Friendly\", \"f\"),\n",
    "    (\"Her classmate was sad about his grade, and she decided to\", \" mock\", \"Unfriendly\", \"f\"),\n",
    "    (\"He noticed a kid in class sitting alone, and chose to\", \" invite\", \"Friendly\", \"m\"),\n",
    "    (\"He noticed a kid in class sitting alone, and chose to\", \" exclude\", \"Unfriendly\", \"m\")\n",
    "    ]"
   ]
  },
  {
   "cell_type": "markdown",
   "id": "ba74ab44-ac8c-4d5a-86ff-677b3c2f9efa",
   "metadata": {},
   "source": [
    "### Analysis {-}"
   ]
  },
  {
   "cell_type": "markdown",
   "id": "93553179-2cae-4659-8805-1743375e5e98",
   "metadata": {},
   "source": [
    "In order to analyze the sensitivity of the large language model to this behavior, I used the metric of surprisal. Surprisal measures how \"surprised\" the model is by a particular word, which therefore reveals how probable a certain word is. If surprisal is higher, that means that there is a lower probability of that certain word appearing in a given context. Surprisal is defined as the negative log of probability, as seen in the function below."
   ]
  },
  {
   "cell_type": "code",
   "execution_count": 7,
   "id": "b635c088-d72e-4a2c-bd0f-28429b3a863e",
   "metadata": {},
   "outputs": [],
   "source": [
    "def surprisal(prob):\n",
    "  return -np.log2(prob)"
   ]
  },
  {
   "cell_type": "markdown",
   "id": "e67d6bfd-c49d-4c09-8acc-51b2d2ebe7ab",
   "metadata": {},
   "source": [
    "With the stimuli created, I then transformed them into a data frame, separated by `Sentence`, `Word`, `Condition` (which is `Friendly` or `Unfriendly`), and `Sex`."
   ]
  },
  {
   "cell_type": "code",
   "execution_count": 8,
   "id": "f3de3121-4cf7-4e03-95d5-427835ecf007",
   "metadata": {},
   "outputs": [],
   "source": [
    "df_stimuli = pd.DataFrame(test_stimuli, columns = ['Sentence', 'Word', 'Condition', 'Sex'])"
   ]
  },
  {
   "cell_type": "markdown",
   "id": "00fbfea9-e001-48e8-83dc-cb3d2e13ce51",
   "metadata": {},
   "source": [
    "The next function is one that was used in class during the second lab, which calculates the probability of the \"unseen\" word, which is the final word in the sentence, given the probability of the \"seen\" words, which is the rest of the sentence in each stimulus. Once this function is run on each stimulus, a probability is returned, which will then be used to calculate surprisal."
   ]
  },
  {
   "cell_type": "code",
   "execution_count": 9,
   "id": "e059b26a-7d36-47dd-be8e-15c87f6e5839",
   "metadata": {},
   "outputs": [],
   "source": [
    "def next_seq_prob(model, tokenizer, seen, unseen):\n",
    "    \"\"\"Get p(unseen | seen)\n",
    "\n",
    "    Parameters\n",
    "    ----------\n",
    "    model : transformers.PreTrainedModel\n",
    "        Model to use for predicting tokens\n",
    "    tokenizer : transformers.PreTrainedTokenizer\n",
    "        Tokenizer for Model\n",
    "    seen : str\n",
    "        Input sequence\n",
    "    unseen: str\n",
    "        The sequence for which to calculate a probability\n",
    "    \"\"\"\n",
    "    # Get ids for tokens\n",
    "    input_ids = tokenizer.encode(seen, return_tensors=\"pt\")\n",
    "    unseen_ids = tokenizer.encode(unseen)\n",
    "\n",
    "    # Loop through unseen tokens & store log probs\n",
    "    log_probs = []\n",
    "    for unseen_id in unseen_ids:\n",
    "\n",
    "        # Run model on input\n",
    "        with torch.no_grad():\n",
    "            logits = model(input_ids).logits\n",
    "\n",
    "        # Get next token prediction logits\n",
    "        next_token_logits = logits[0, -1]\n",
    "        next_token_probs = torch.softmax(next_token_logits, 0) # Normalize\n",
    "\n",
    "        # Get probability for relevant token in unseen string & store\n",
    "        prob = next_token_probs[unseen_id]\n",
    "        log_probs.append(torch.log(prob))\n",
    "\n",
    "        # Add input tokens incrementally to input\n",
    "        input_ids = torch.cat((input_ids, torch.tensor([[unseen_id]])), 1)\n",
    "\n",
    "    # Add log probs together to get total log probability of sequence\n",
    "    total_log_prob = sum(log_probs)\n",
    "    # Exponentiate to return to probabilities\n",
    "    total_prob = torch.exp(total_log_prob)\n",
    "    return total_prob.item()"
   ]
  },
  {
   "cell_type": "markdown",
   "id": "97654619-7ec0-4727-bc29-f40d1e8a9e50",
   "metadata": {},
   "source": [
    "For each stimulus in `test_stimuli`, the probability is calculated using the function above. Then, the word, sentence, condition, sex condition, probability, and surprisal for each stimulus is appended to a list called `results` containing this information for all of the stimuli. This was then converted into a dataframe to be easily viewed and visualized."
   ]
  },
  {
   "cell_type": "code",
   "execution_count": 10,
   "id": "ac0c1822-94ca-4300-b111-9fa9e939a332",
   "metadata": {},
   "outputs": [
    {
     "name": "stderr",
     "output_type": "stream",
     "text": [
      "100%|███████████████████████████████████████████| 20/20 [00:01<00:00, 16.03it/s]\n"
     ]
    },
    {
     "data": {
      "text/html": [
       "<div>\n",
       "<style scoped>\n",
       "    .dataframe tbody tr th:only-of-type {\n",
       "        vertical-align: middle;\n",
       "    }\n",
       "\n",
       "    .dataframe tbody tr th {\n",
       "        vertical-align: top;\n",
       "    }\n",
       "\n",
       "    .dataframe thead th {\n",
       "        text-align: right;\n",
       "    }\n",
       "</style>\n",
       "<table border=\"1\" class=\"dataframe\">\n",
       "  <thead>\n",
       "    <tr style=\"text-align: right;\">\n",
       "      <th></th>\n",
       "      <th>Word</th>\n",
       "      <th>Sentence</th>\n",
       "      <th>Condition</th>\n",
       "      <th>Sex</th>\n",
       "      <th>Probability</th>\n",
       "      <th>Surprisal</th>\n",
       "    </tr>\n",
       "  </thead>\n",
       "  <tbody>\n",
       "    <tr>\n",
       "      <th>0</th>\n",
       "      <td>helped</td>\n",
       "      <td>He saw his friend trip over a rock and</td>\n",
       "      <td>Friendly</td>\n",
       "      <td>m</td>\n",
       "      <td>0.000156</td>\n",
       "      <td>12.645842</td>\n",
       "    </tr>\n",
       "    <tr>\n",
       "      <th>1</th>\n",
       "      <td>laughed</td>\n",
       "      <td>He saw his friend trip over a rock and</td>\n",
       "      <td>Unfriendly</td>\n",
       "      <td>m</td>\n",
       "      <td>0.000061</td>\n",
       "      <td>13.999645</td>\n",
       "    </tr>\n",
       "    <tr>\n",
       "      <th>2</th>\n",
       "      <td>answered</td>\n",
       "      <td>When the girl went to the teacher to ask a que...</td>\n",
       "      <td>Friendly</td>\n",
       "      <td>f</td>\n",
       "      <td>0.002249</td>\n",
       "      <td>8.796256</td>\n",
       "    </tr>\n",
       "    <tr>\n",
       "      <th>3</th>\n",
       "      <td>yelled</td>\n",
       "      <td>When the girl went to the teacher to ask a que...</td>\n",
       "      <td>Unfriendly</td>\n",
       "      <td>f</td>\n",
       "      <td>0.003914</td>\n",
       "      <td>7.997134</td>\n",
       "    </tr>\n",
       "    <tr>\n",
       "      <th>4</th>\n",
       "      <td>stopped</td>\n",
       "      <td>She saw a lonely dog on the side of the road w...</td>\n",
       "      <td>Friendly</td>\n",
       "      <td>f</td>\n",
       "      <td>0.020985</td>\n",
       "      <td>5.574504</td>\n",
       "    </tr>\n",
       "    <tr>\n",
       "      <th>5</th>\n",
       "      <td>snickered</td>\n",
       "      <td>She saw a lonely dog on the side of the road w...</td>\n",
       "      <td>Unfriendly</td>\n",
       "      <td>f</td>\n",
       "      <td>0.000006</td>\n",
       "      <td>17.233319</td>\n",
       "    </tr>\n",
       "    <tr>\n",
       "      <th>6</th>\n",
       "      <td>help</td>\n",
       "      <td>He realized his colleague was struggling on th...</td>\n",
       "      <td>Friendly</td>\n",
       "      <td>m</td>\n",
       "      <td>0.219425</td>\n",
       "      <td>2.188202</td>\n",
       "    </tr>\n",
       "    <tr>\n",
       "      <th>7</th>\n",
       "      <td>gloat</td>\n",
       "      <td>He realized his colleague was struggling on th...</td>\n",
       "      <td>Unfriendly</td>\n",
       "      <td>m</td>\n",
       "      <td>0.000003</td>\n",
       "      <td>18.267286</td>\n",
       "    </tr>\n",
       "    <tr>\n",
       "      <th>8</th>\n",
       "      <td>rushed</td>\n",
       "      <td>During the soccer game, she noticed her teamma...</td>\n",
       "      <td>Friendly</td>\n",
       "      <td>f</td>\n",
       "      <td>0.032421</td>\n",
       "      <td>4.946915</td>\n",
       "    </tr>\n",
       "    <tr>\n",
       "      <th>9</th>\n",
       "      <td>complained</td>\n",
       "      <td>During the soccer game, she noticed her teamma...</td>\n",
       "      <td>Unfriendly</td>\n",
       "      <td>f</td>\n",
       "      <td>0.000637</td>\n",
       "      <td>10.616399</td>\n",
       "    </tr>\n",
       "    <tr>\n",
       "      <th>10</th>\n",
       "      <td>listen</td>\n",
       "      <td>When his friend was feeling sad, he took the t...</td>\n",
       "      <td>Friendly</td>\n",
       "      <td>m</td>\n",
       "      <td>0.007338</td>\n",
       "      <td>7.090455</td>\n",
       "    </tr>\n",
       "    <tr>\n",
       "      <th>11</th>\n",
       "      <td>insult</td>\n",
       "      <td>When his friend was feeling sad, he took the t...</td>\n",
       "      <td>Unfriendly</td>\n",
       "      <td>m</td>\n",
       "      <td>0.000115</td>\n",
       "      <td>13.090399</td>\n",
       "    </tr>\n",
       "    <tr>\n",
       "      <th>12</th>\n",
       "      <td>congratulate</td>\n",
       "      <td>Upon hearing about his friend's win yesterday,...</td>\n",
       "      <td>Friendly</td>\n",
       "      <td>m</td>\n",
       "      <td>0.010908</td>\n",
       "      <td>6.518457</td>\n",
       "    </tr>\n",
       "    <tr>\n",
       "      <th>13</th>\n",
       "      <td>envy</td>\n",
       "      <td>Upon hearing about his friend's win yesterday,...</td>\n",
       "      <td>Unfriendly</td>\n",
       "      <td>m</td>\n",
       "      <td>0.000004</td>\n",
       "      <td>17.943323</td>\n",
       "    </tr>\n",
       "    <tr>\n",
       "      <th>14</th>\n",
       "      <td>forgive</td>\n",
       "      <td>When her group member made a small mistake on ...</td>\n",
       "      <td>Friendly</td>\n",
       "      <td>f</td>\n",
       "      <td>0.001522</td>\n",
       "      <td>9.359541</td>\n",
       "    </tr>\n",
       "    <tr>\n",
       "      <th>15</th>\n",
       "      <td>reprimand</td>\n",
       "      <td>When her group member made a small mistake on ...</td>\n",
       "      <td>Unfriendly</td>\n",
       "      <td>f</td>\n",
       "      <td>0.000288</td>\n",
       "      <td>11.761821</td>\n",
       "    </tr>\n",
       "    <tr>\n",
       "      <th>16</th>\n",
       "      <td>console</td>\n",
       "      <td>Her classmate was sad about his grade, and she...</td>\n",
       "      <td>Friendly</td>\n",
       "      <td>f</td>\n",
       "      <td>0.000059</td>\n",
       "      <td>14.047952</td>\n",
       "    </tr>\n",
       "    <tr>\n",
       "      <th>17</th>\n",
       "      <td>mock</td>\n",
       "      <td>Her classmate was sad about his grade, and she...</td>\n",
       "      <td>Unfriendly</td>\n",
       "      <td>f</td>\n",
       "      <td>0.000128</td>\n",
       "      <td>12.936366</td>\n",
       "    </tr>\n",
       "    <tr>\n",
       "      <th>18</th>\n",
       "      <td>invite</td>\n",
       "      <td>He noticed a kid in class sitting alone, and c...</td>\n",
       "      <td>Friendly</td>\n",
       "      <td>m</td>\n",
       "      <td>0.001569</td>\n",
       "      <td>9.315782</td>\n",
       "    </tr>\n",
       "    <tr>\n",
       "      <th>19</th>\n",
       "      <td>exclude</td>\n",
       "      <td>He noticed a kid in class sitting alone, and c...</td>\n",
       "      <td>Unfriendly</td>\n",
       "      <td>m</td>\n",
       "      <td>0.000025</td>\n",
       "      <td>15.312291</td>\n",
       "    </tr>\n",
       "  </tbody>\n",
       "</table>\n",
       "</div>"
      ],
      "text/plain": [
       "             Word                                           Sentence  \\\n",
       "0          helped             He saw his friend trip over a rock and   \n",
       "1         laughed             He saw his friend trip over a rock and   \n",
       "2        answered  When the girl went to the teacher to ask a que...   \n",
       "3          yelled  When the girl went to the teacher to ask a que...   \n",
       "4         stopped  She saw a lonely dog on the side of the road w...   \n",
       "5       snickered  She saw a lonely dog on the side of the road w...   \n",
       "6            help  He realized his colleague was struggling on th...   \n",
       "7           gloat  He realized his colleague was struggling on th...   \n",
       "8          rushed  During the soccer game, she noticed her teamma...   \n",
       "9      complained  During the soccer game, she noticed her teamma...   \n",
       "10         listen  When his friend was feeling sad, he took the t...   \n",
       "11         insult  When his friend was feeling sad, he took the t...   \n",
       "12   congratulate  Upon hearing about his friend's win yesterday,...   \n",
       "13           envy  Upon hearing about his friend's win yesterday,...   \n",
       "14        forgive  When her group member made a small mistake on ...   \n",
       "15      reprimand  When her group member made a small mistake on ...   \n",
       "16        console  Her classmate was sad about his grade, and she...   \n",
       "17           mock  Her classmate was sad about his grade, and she...   \n",
       "18         invite  He noticed a kid in class sitting alone, and c...   \n",
       "19        exclude  He noticed a kid in class sitting alone, and c...   \n",
       "\n",
       "     Condition Sex  Probability  Surprisal  \n",
       "0     Friendly   m     0.000156  12.645842  \n",
       "1   Unfriendly   m     0.000061  13.999645  \n",
       "2     Friendly   f     0.002249   8.796256  \n",
       "3   Unfriendly   f     0.003914   7.997134  \n",
       "4     Friendly   f     0.020985   5.574504  \n",
       "5   Unfriendly   f     0.000006  17.233319  \n",
       "6     Friendly   m     0.219425   2.188202  \n",
       "7   Unfriendly   m     0.000003  18.267286  \n",
       "8     Friendly   f     0.032421   4.946915  \n",
       "9   Unfriendly   f     0.000637  10.616399  \n",
       "10    Friendly   m     0.007338   7.090455  \n",
       "11  Unfriendly   m     0.000115  13.090399  \n",
       "12    Friendly   m     0.010908   6.518457  \n",
       "13  Unfriendly   m     0.000004  17.943323  \n",
       "14    Friendly   f     0.001522   9.359541  \n",
       "15  Unfriendly   f     0.000288  11.761821  \n",
       "16    Friendly   f     0.000059  14.047952  \n",
       "17  Unfriendly   f     0.000128  12.936366  \n",
       "18    Friendly   m     0.001569   9.315782  \n",
       "19  Unfriendly   m     0.000025  15.312291  "
      ]
     },
     "execution_count": 10,
     "metadata": {},
     "output_type": "execute_result"
    }
   ],
   "source": [
    "results = []\n",
    "for index, row in tqdm(df_stimuli.iterrows(), total=df_stimuli.shape[0]):\n",
    "\n",
    "  p = next_seq_prob(gpt2, tokenizer, row['Sentence'], row['Word'])\n",
    "\n",
    "  results.append({\n",
    "      'Word': row['Word'],\n",
    "      'Sentence': row['Sentence'],\n",
    "      'Condition': row['Condition'],\n",
    "      'Sex': row['Sex'],\n",
    "      'Probability': p,\n",
    "      'Surprisal': surprisal(p)\n",
    "  })\n",
    "\n",
    "df_results = pd.DataFrame(results)\n",
    "df_results"
   ]
  },
  {
   "cell_type": "markdown",
   "id": "8b597801-bbfb-43a7-99d5-50516d123c06",
   "metadata": {},
   "source": [
    "## Results {-}"
   ]
  },
  {
   "cell_type": "markdown",
   "id": "574f4cc1-19df-460c-b2e4-db039b5970a2",
   "metadata": {},
   "source": [
    "### Friendly Vs. Unfriendly Behavior {-}"
   ]
  },
  {
   "cell_type": "markdown",
   "id": "68264036-11be-4926-b833-f33015736643",
   "metadata": {},
   "source": [
    "The probability and surprisal that were calculated for the stimuli are shown in the plots below."
   ]
  },
  {
   "cell_type": "code",
   "execution_count": 11,
   "id": "0db2264c-9667-48d5-9c94-d48b126314ef",
   "metadata": {},
   "outputs": [
    {
     "data": {
      "image/png": "[encoded data removed]",
      "text/plain": [
       "<Figure size 1000x600 with 2 Axes>"
      ]
     },
     "metadata": {},
     "output_type": "display_data"
    }
   ],
   "source": [
    "fig, axs = plt.subplots(1, 2, figsize=(10, 6))\n",
    "sns.barplot(df_results, x='Condition', y='Probability', ax=axs[0], color='thistle');\n",
    "axs[0].set_title('Probability of Friendly vs. Unfriendly Behavior');\n",
    "sns.barplot(df_results, x='Condition', y='Surprisal', ax=axs[1], color='steelblue');\n",
    "axs[1].set_title('Surprisal of Friendly vs. Unfriendly Behavior');"
   ]
  },
  {
   "cell_type": "markdown",
   "id": "3aa121d2-a874-428f-8154-0bed17f4a853",
   "metadata": {},
   "source": [
    "As seen in the plots above, there is a prominent difference in probability, and hence surprisal, between friendly and unfriendly conditions. The surprisal for antagonistic behaviors in the given situations are significantly higher than for amicable behaviors, thus demonstrating that this large language model is at least somewhat sensitive to friendly versus unfriendly behavior, with friendly behavior being more likely."
   ]
  },
  {
   "cell_type": "markdown",
   "id": "51438551-6ed2-4916-848c-6073a09f988a",
   "metadata": {},
   "source": [
    "### The Effect of Sex {-}"
   ]
  },
  {
   "cell_type": "markdown",
   "id": "c9fca017-bee0-4fac-ab0b-d10ac8b36d38",
   "metadata": {},
   "source": [
    "As mentioned above, I was intrigued by the idea that sex might have an effect on surprisal as a result of inherent biases of the model, and I wanted to test whether surprisal differed by condition based on the sex of the subject in the sentence."
   ]
  },
  {
   "cell_type": "code",
   "execution_count": 12,
   "id": "723c6167-1d6f-497a-a699-b4216c2a4462",
   "metadata": {},
   "outputs": [
    {
     "data": {
      "image/png": "[encoded data removed]",
      "text/plain": [
       "<Figure size 640x480 with 1 Axes>"
      ]
     },
     "metadata": {},
     "output_type": "display_data"
    }
   ],
   "source": [
    "palette = [\"#A888AF\", 'lightsteelblue']\n",
    "sns.set_palette(palette)\n",
    "sns.barplot(df_results, x='Condition', y='Surprisal', hue='Sex', palette=palette).set_title('Surprisal of Behavior by Sex');"
   ]
  },
  {
   "cell_type": "markdown",
   "id": "484041c8-cdaa-4a7f-b950-a8efe9c08b11",
   "metadata": {},
   "source": [
    "These results were interesting, as surprisal was slightly higher for the female condition for friendly behaviors, while it was slightly higher for the male condition for unfriendly behaviors. This difference was not significant at all, as seen in the plot above. However, I still found this fascinating, because it could reveal that there are unknown biases in the LLM itself that biases friendly behavior towards males and unfriendly behavior towards females. Although in this project I cannot say for certain whether this bias does truly exist, it is something that is intriguing, and further work would involve analyzing this possible bias more extensively with additional, more robust stimuli. "
   ]
  },
  {
   "cell_type": "markdown",
   "id": "3d4d1443-a9a2-4fe7-a621-df7fc46041b1",
   "metadata": {},
   "source": [
    "## Discussion {-}"
   ]
  },
  {
   "cell_type": "markdown",
   "id": "f8e7512d-050e-4925-b54a-b9f7a706bd8a",
   "metadata": {},
   "source": [
    "Large language models have been shown to be sensitive to human social behaviors in prior research, with the ability to model facets such as human trust behaviors. However, I wanted to test whether GPT-2 is sensitive to prosocial behaviors, specifically in the case of friendly versus unfriendly behaviors in given situations. \n",
    "\n",
    "After calculating the surprisal for the stimuli I developed that included ten minimal pairs of sentences such that each pair had a `Friendly` final word or an `Unfriendly` final word, I found that GPT-2 was in fact sensitive to the difference between amicable behavior and antagonistic behavior. The surprisals for unfriendly behavior were significantly higher than the ones for friendly behavior, indicating that this large language model is more unlikely to lean towards antagonistic behavior when given a social situation.\n",
    "\n",
    "Furthermore, I also analyzed whether sex had an effect on this distinction. Unsurprisingly, the difference between surprisal for the male condition and the female condition was not significant with the stimuli that I developed, as there were only five minimal pairs for each condition in this dataset. However, for the male condition, surprisal was marginally higher in the `Unfriendly` behavior condition, while it was marginally lower in the `Friendly` behavior condition. Since this disparity was not significant, it is hard to tell whether this indicates an inherent bias in the large language model. \n",
    "\n",
    "One important implication that these results have for the capacities of large language models is that they demonstrate that LLMs have the ability to model human behavior in some capacity. Although they might not be able to perfectly replicate social interactions and understanding in the same way that adults or even younger children do, they do seem to have some kind of sensitivity to the difference between amicable and antagonistic behavior. In the future, this could mean that LLMs might be used more extensively to model what a human might do in certain situations, which could be helpful in various fields, but especially human social science research. Being able to accurately mirror human social interactions without using real human participants in a research study could lead to decreased costs and increased efficiency in the long run.\n",
    "\n",
    "With respect to the implications for human cognition, these results imply that large language models could be integrated into society in a way that human cognition becomes intertwined with LLMs. As seen already with technology in the past couple of decades, as the abilities of large language models continue to become more and more advanced, human cognition might become more and more dependent on the use of LLMs in daily lives. This integration could have lasting impacts on the future of human cognition, as it would mean the necessary change in the way humans interact with technology and large language models, and possibly even each other. Although these results are not very robust in implying that LLMs could eventually fully and accurately mimic human social interaction and understanding, they do reveal some level of modeling human cognition."
   ]
  },
  {
   "cell_type": "markdown",
   "id": "b42aa3a8-a538-4fc2-8d40-ce37893a6d03",
   "metadata": {},
   "source": [
    "### Limitations {-}"
   ]
  },
  {
   "cell_type": "markdown",
   "id": "daec4cec-66fd-45b2-8333-26df395d4a74",
   "metadata": {},
   "source": [
    "There are a few important limitations of this project. In terms of the stimuli used, one possible issue is that the dataset was simply too small. There were only ten minimal pairs in the dataset (twenty total sentences), which is a relatively limited amount of data. Analyses on a small amount of data such as this might lead to results that don't capture the true nature of the large language model, and therefore lead to incorrect conclusions, specifically in terms of both modeling prosocial behavior as well as the effect of sex in this project. Furthermore, another probable issue with the test stimuli is that they were not fully controlled for difficulty. Some of the final words might be considered more complex than others, and therefore could be a confound in this analysis."
   ]
  },
  {
   "cell_type": "markdown",
   "id": "711d5bde-b7f8-4445-bd77-881bd7c32b9a",
   "metadata": {},
   "source": [
    "### Next Steps {-}"
   ]
  },
  {
   "cell_type": "markdown",
   "id": "4edc82d5-d2e3-4cf0-919b-23bbf7545229",
   "metadata": {},
   "source": [
    "Taking into consideration the limitations of this project, next steps would include developing a larger dataset of stimuli containing minimal pairs so that any significant differences between conditions might be more robustly shown. Furthermore, when creating stimuli, complexity of both sentences and final words should be taken in to account such that they don't act as confounds in the project. \n",
    "\n",
    "In addition, in terms of the possible bias of sex, the stimuli used for this project did not reflect any significant variation between the male and female condition. However, future work should evaluate this further with a larger set of stimuli to see if this inherent bias is in fact present in GPT-2. The results of this project show a slight disparity, and I would be curious to know if there truly is a significant disparity for surprisal depending on whether the subject of the sentence is male or female."
   ]
  },
  {
   "cell_type": "markdown",
   "id": "8dc8c0e4-254f-45e9-8ace-3a6e14158a8d",
   "metadata": {},
   "source": [
    "## References {-}"
   ]
  },
  {
   "cell_type": "markdown",
   "id": "9b200f3b-b848-49c6-8327-8c23b9e8dfa4",
   "metadata": {},
   "source": [
    "<span id=\"fn1\"> [1]</span> Spinrad, T. L., & Gal, D. E. (2018, April 1). *Fostering prosocial behavior and empathy in young children*. Current Opinion in Psychology. https://doi.org/10.1016/j.copsyc.2017.08.004\n",
    "\n",
    "<span id=\"fn2\"> [2]</span> Xie, C., Chen, C., Jia, F., Ye, Z., Shu, K., Bibi, A., Hu, Z., Torr, P., Ghanem, B., & Li, G. (2024, February 7). *Can Large Language Model Agents Simulate Human Trust Behaviors?* arXiv.org. https://arxiv.org/abs/2402.04559 "
   ]
  }
 ],
 "metadata": {
  "kernelspec": {
   "display_name": "Python 3 (ipykernel)",
   "language": "python",
   "name": "python3"
  },
  "language_info": {
   "codemirror_mode": {
    "name": "ipython",
    "version": 3
   },
   "file_extension": ".py",
   "mimetype": "text/x-python",
   "name": "python",
   "nbconvert_exporter": "python",
   "pygments_lexer": "ipython3",
   "version": "3.11.5"
  }
 },
 "nbformat": 4,
 "nbformat_minor": 5
}
